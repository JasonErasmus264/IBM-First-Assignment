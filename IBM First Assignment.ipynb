{
  "metadata": {
    "kernelspec": {
      "name": "python",
      "display_name": "Python (Pyodide)",
      "language": "python"
    },
    "language_info": {
      "codemirror_mode": {
        "name": "python",
        "version": 3
      },
      "file_extension": ".py",
      "mimetype": "text/x-python",
      "name": "python",
      "nbconvert_exporter": "python",
      "pygments_lexer": "ipython3",
      "version": "3.8"
    }
  },
  "nbformat_minor": 4,
  "nbformat": 4,
  "cells": [
    {
      "cell_type": "markdown",
      "source": "# Exercise 2\n**IBM First Assignment**\n",
      "metadata": {}
    },
    {
      "cell_type": "markdown",
      "source": "# Exercise 3\nWelcome to my first notebook. This is a demonstration of the basic workings of a Jupyter Notebook based on the IBM Data Science Professional Certificate.\n",
      "metadata": {}
    },
    {
      "cell_type": "markdown",
      "source": "# Exercise 4\nSome of the commonly used languages in data science:\n- Python\n- SQL\n- R\n- Julia",
      "metadata": {}
    },
    {
      "cell_type": "markdown",
      "source": "# Exercise 5\nPopular libraries used in data science:\n- **Python**:\n  - NumPy\n  - Pandas\n  - Matplotlib\n- **R**:\n  - ggplot2\n  - dplyr\n  - caret",
      "metadata": {}
    },
    {
      "cell_type": "markdown",
      "source": "# Exercise 6\n| Tools               |\n|---------------------|\n| Jupyter Notebook    |\n| RStudio             | \n| Apache Hadoop       |\n",
      "metadata": {}
    },
    {
      "cell_type": "markdown",
      "source": "# Exercise 7\nThe following will demonstrate some simple arithmetic expressions:",
      "metadata": {}
    },
    {
      "cell_type": "code",
      "source": "# Exercise 8\n(1 * 2) + 3",
      "metadata": {
        "trusted": true
      },
      "outputs": [
        {
          "execution_count": 2,
          "output_type": "execute_result",
          "data": {
            "text/plain": "5"
          },
          "metadata": {}
        }
      ],
      "execution_count": 2
    },
    {
      "cell_type": "code",
      "source": "# Exercise 9\nminutes = 269\nminutes / 60\n",
      "metadata": {
        "trusted": true
      },
      "outputs": [
        {
          "execution_count": 5,
          "output_type": "execute_result",
          "data": {
            "text/plain": "4.483333333333333"
          },
          "metadata": {}
        }
      ],
      "execution_count": 5
    },
    {
      "cell_type": "markdown",
      "source": "# Exercise 10\n**Objective**\nIn this final assignment, you will:\n - Create a Jupyter Notebook\n - Insert code and markdown cells\n - Share your notebook through GitHub",
      "metadata": {}
    },
    {
      "cell_type": "markdown",
      "source": "# Exercise 11\nAuthor name: **Jason Erasmus**",
      "metadata": {}
    },
    {
      "cell_type": "markdown",
      "source": "# Exercise 12\nThe notebook uploaded to GitHub: [GitHub Repository Link](https://github.com/JasonErasmus264/IBM-First-Assignment)",
      "metadata": {}
    },
    {
      "cell_type": "code",
      "source": "",
      "metadata": {
        "trusted": true
      },
      "outputs": [],
      "execution_count": null
    }
  ]
}